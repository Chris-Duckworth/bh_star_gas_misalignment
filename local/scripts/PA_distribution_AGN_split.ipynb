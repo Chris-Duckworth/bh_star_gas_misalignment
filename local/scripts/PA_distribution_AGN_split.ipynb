{
 "cells": [
  {
   "cell_type": "markdown",
   "metadata": {},
   "source": [
    "#### PA_distribution_AGN_split\n",
    "---\n",
    "\n",
    "1. Selects galaxies based on AGN luminosity and plots the distributions of PA (z=0 only)\n",
    "2. Need to be careful about mass differences between samples. \n",
    "3. Maybe make control sample to compare to...\n",
    "\n",
    "---"
   ]
  },
  {
   "cell_type": "code",
   "execution_count": 1,
   "metadata": {},
   "outputs": [
    {
     "name": "stderr",
     "output_type": "stream",
     "text": [
      "/Users/cd201/anaconda3/lib/python3.6/site-packages/h5py/__init__.py:36: FutureWarning: Conversion of the second argument of issubdtype from `float` to `np.floating` is deprecated. In future, it will be treated as `np.float64 == np.dtype(float).type`.\n",
      "  from ._conv import register_converters as _register_converters\n"
     ]
    }
   ],
   "source": [
    "import h5py \n",
    "import pandas as pd \n",
    "import matplotlib.pyplot as plt\n",
    "import split_population\n",
    "import plot_population\n",
    "import imp\n",
    "imp.reload(split_population)\n",
    "import numpy as np\n",
    "from astropy.cosmology import Planck15\n",
    "import kin_morph_funcs as knf\n",
    "import scipy.stats"
   ]
  },
  {
   "cell_type": "code",
   "execution_count": 2,
   "metadata": {
    "collapsed": true
   },
   "outputs": [],
   "source": [
    "from matplotlib import rc\n",
    "rc('text', usetex=True)\n",
    "\n",
    "from matplotlib import rcParams\n",
    "rcParams['axes.linewidth'] = 2.5\n",
    "rcParams['ytick.major.size'] = 5\n",
    "rcParams['ytick.major.width'] = 2\n",
    "rcParams['xtick.major.size'] = 5\n",
    "rcParams['xtick.major.width'] = 2\n",
    "\n",
    "rcParams['ytick.minor.size'] = 3.5\n",
    "rcParams['ytick.minor.width'] = 1.5\n",
    "rcParams['xtick.minor.size'] = 3.5\n",
    "rcParams['xtick.minor.width'] = 1.5\n",
    "\n",
    "rcParams['xtick.labelsize'] = 'large'\n",
    "rcParams['ytick.labelsize'] = 'large'"
   ]
  },
  {
   "cell_type": "code",
   "execution_count": 3,
   "metadata": {
    "collapsed": true
   },
   "outputs": [],
   "source": [
    "plotpath = '/Users/cd201/projects/bh_star_gas_misalignment/local/plots/'"
   ]
  },
  {
   "cell_type": "code",
   "execution_count": 4,
   "metadata": {
    "collapsed": true
   },
   "outputs": [],
   "source": [
    "# ---------------------------------------------------------------------------------------\n",
    "# Loading in TNG100 sample with z=0 info to select samples.\n",
    "tng100_main = pd.read_csv('/Users/cd201/morphology_misalignment/catalogues/tng100_mpl8_pa_info_v0.1_z0_info.csv', comment='#')\n",
    "tng100_pa = split_population.tng100_pa_sample(tng100_main)\n",
    "\n",
    "# Breaking down morphology (deviations from sfms).\n",
    "QU, SF, GV = split_population.SFMS_breakdown(tng100_pa)\n",
    "\n",
    "# ---------------------------------------------------------------------------------------\n",
    "# Loading in mass history file.\n",
    "mass_tab = pd.read_csv('/Users/cd201/projects/bh_star_gas_misalignment/popeye/catalogues/tng100_bh_history.csv')\n",
    "mass_tab['branch_lookback_time'] = Planck15.lookback_time(mass_tab.branch_z.values).value\n",
    "# ---------------------------------------------------------------------------------------"
   ]
  },
  {
   "cell_type": "code",
   "execution_count": 5,
   "metadata": {
    "collapsed": true
   },
   "outputs": [],
   "source": [
    "def create_matched_mass_sample(masses, tab):\n",
    "    '''\n",
    "    Given a set of masses, this returns a control sample with a similar mass distribution.\n",
    "    Make sure that the you have removed the comparison sample from your table.\n",
    "    '''\n",
    "    indices = np.array([])\n",
    "    for mass in masses:\n",
    "        idx = (np.abs(tab.stel_mass_x.values - mass)).argmin()\n",
    "        indices = np.append(indices, idx)\n",
    "    return tab.iloc[indices]\n",
    "\n",
    "def create_matched_mass_sample_unique(masses, tab, col_name='stel_mass_x'):\n",
    "    '''\n",
    "    Given a set of masses, this returns a control sample with a similar mass distribution. \n",
    "    Each match in the control sample will be a unique galaxy.\n",
    "    Make sure that the you have removed the comparison sample from your table.\n",
    "    '''\n",
    "    iter_tab = tab\n",
    "    indices = np.array([])\n",
    "    for mass in masses:\n",
    "        idx = iter_tab.index[(np.abs(iter_tab[col_name].values - mass)).argmin()]\n",
    "        indices = np.append(indices, idx)\n",
    "        iter_tab = iter_tab.drop(idx)\n",
    "    return tab.loc[indices]"
   ]
  },
  {
   "cell_type": "markdown",
   "metadata": {},
   "source": [
    "### Plotting all distributions split on z=0 BH luminosity"
   ]
  },
  {
   "cell_type": "code",
   "execution_count": 6,
   "metadata": {},
   "outputs": [
    {
     "data": {
      "image/png": "[encoded data removed]",
      "text/plain": [
       "<matplotlib.figure.Figure at 0x105cae400>"
      ]
     },
     "metadata": {},
     "output_type": "display_data"
    },
    {
     "name": "stdout",
     "output_type": "stream",
     "text": [
      "Bottom quartile median: 10.0. std: 31.42249914923191\n",
      "Top quartile median: 9.0. std: 35.50987240394631\n",
      "AGN median: 9.0. std: 36.553738708614425\n",
      "low-high: Ks_2sampResult(statistic=0.052197802197802234, pvalue=0.6930616020990739)\n",
      "AGN-high: Ks_2sampResult(statistic=0.01797119847661366, pvalue=0.999999999489154)\n",
      "low-AGN: Ks_2sampResult(statistic=0.04329154599912721, pvalue=0.9242847867831454)\n"
     ]
    }
   ],
   "source": [
    "all_lum, low_BHlum, high_BHlum = split_population.combine_with_tree_split_on_BHlum_percentile(tng100_pa, mass_tab, 10, 90)\n",
    "_, _, AGN = split_population.combine_with_tree_split_on_BHlum(tng100_pa, mass_tab, 43.5)\n",
    "\n",
    "fig, ax = plt.subplots(1,2, figsize=(13,3.5))\n",
    "bins = np.linspace(0, 180, 19)\n",
    "knf.histerr(high_BHlum.pa_offset.values, ax[0], bins, color='darkmagenta', linestyle='dashed', label=None)\n",
    "knf.histerr_fill(high_BHlum.pa_offset.values, ax[0], bins, color='darkmagenta', linestyle='dashed', label='Upper Quartile $L_{bol}$')\n",
    "knf.histerr(low_BHlum.pa_offset.values, ax[0], bins, color='forestgreen', linestyle='dashed', label=None)\n",
    "knf.histerr_fill(low_BHlum.pa_offset.values, ax[0], bins, color='forestgreen', linestyle='dashed', label='Lower Quartile $L_{bol}$', alpha=0.2)\n",
    "knf.histerr(AGN.pa_offset.values, ax[0], bins, color='k', linestyle='dashed', label=None)\n",
    "knf.histerr_fill(AGN.pa_offset.values, ax[0], bins, color='k', linestyle='dashed', label='AGN ($L_{bol} > 10^{43.5}$ ergs/s)', alpha=0.2)\n",
    "\n",
    "ax[0].set_xlabel('$\\Delta$PA [$^{\\circ}$]', fontsize=14)\n",
    "ax[0].set_ylabel('PDF', fontsize=14)\n",
    "ax[0].set_xlim([0,180])\n",
    "ax[0].set_ylim([10**-3, 1])\n",
    "ax[0].set_yscale('log')\n",
    "ax[0].legend(frameon=False, fontsize=13)\n",
    "\n",
    "bins = np.logspace(8.5, 11.5, 15)\n",
    "knf.histerr(high_BHlum.stel_mass_x.values, ax[1], bins, color='darkmagenta', linestyle='dashed', label=None)\n",
    "knf.histerr_fill(high_BHlum.stel_mass_x.values, ax[1], bins, color='darkmagenta', linestyle='dashed', label='Upper Quartile $L_{bol}$')\n",
    "knf.histerr(low_BHlum.stel_mass_x.values, ax[1], bins, color='forestgreen', linestyle='dashed', label=None)\n",
    "knf.histerr_fill(low_BHlum.stel_mass_x.values, ax[1], bins, color='forestgreen', linestyle='dashed', label='Lower Quartile $L_{bol}$', alpha=0.2)\n",
    "knf.histerr(AGN.stel_mass_x.values, ax[1], bins, color='k', linestyle='dashed', label=None)\n",
    "knf.histerr_fill(AGN.stel_mass_x.values, ax[1], bins, color='k', linestyle='dashed', label='AGN ($L_{bol} > 10^{44}$ ergs/s)', alpha=0.2)\n",
    "\n",
    "ax[1].set_xlabel('$M_{*}$ [$M_{\\odot}$]', fontsize=14)\n",
    "ax[1].set_ylabel('PDF', fontsize=14)\n",
    "ax[1].set_xscale('log')\n",
    "ax[1].legend(frameon=False, fontsize=13, loc='upper left')\n",
    "\n",
    "plt.show()\n",
    "\n",
    "print('Bottom quartile median: '+str(np.median(low_BHlum.pa_offset.values))+'. std: '+str(np.std(low_BHlum.pa_offset.values)))\n",
    "print('Top quartile median: '+str(np.median(high_BHlum.pa_offset.values))+'. std: '+str(np.std(high_BHlum.pa_offset.values)))\n",
    "print('AGN median: '+str(np.median(AGN.pa_offset.values))+'. std: '+str(np.std(AGN.pa_offset.values)))\n",
    "\n",
    "### KS tests.\n",
    "print('low-high: '+str(scipy.stats.ks_2samp(low_BHlum.pa_offset.values, high_BHlum.pa_offset.values)))\n",
    "print('AGN-high: '+str(scipy.stats.ks_2samp(AGN.pa_offset.values, high_BHlum.pa_offset.values)))\n",
    "print('low-AGN: '+str(scipy.stats.ks_2samp(low_BHlum.pa_offset.values, AGN.pa_offset.values)))"
   ]
  },
  {
   "cell_type": "markdown",
   "metadata": {},
   "source": [
    "---\n",
    "\n",
    "#### 2. Creating matched mass sample\n",
    "1. Despite the similarity between the the PA distributions, the mass distributions are very different. Lets compare the distributions against a control.\n",
    "\n",
    "---"
   ]
  },
  {
   "cell_type": "code",
   "execution_count": 11,
   "metadata": {
    "collapsed": true
   },
   "outputs": [],
   "source": [
    "# creating a mass matched control sample for the high lum quartile.\n",
    "\n",
    "# firstly creating table where high lum has been removed.\n",
    "resid_tab = all_lum.drop(high_BHlum.index)\n",
    "# creating control\n",
    "control_tab = create_matched_mass_sample_unique(high_BHlum.stel_mass_x.values, resid_tab)"
   ]
  },
  {
   "cell_type": "code",
   "execution_count": 12,
   "metadata": {},
   "outputs": [
    {
     "data": {
      "image/png": "[encoded data removed]",
      "text/plain": [
       "<matplotlib.figure.Figure at 0x1a20829f60>"
      ]
     },
     "metadata": {},
     "output_type": "display_data"
    }
   ],
   "source": [
    "### plotting mass distributions for high lum and control.\n",
    "fig, ax = plt.subplots(1, figsize=(5.5,3.5))\n",
    "bins = np.logspace(8.5, 11.5, 30)\n",
    "knf.histerr(high_BHlum.stel_mass_x.values, ax, bins, color='darkmagenta', linestyle='dashed', label=None)\n",
    "knf.histerr_fill(high_BHlum.stel_mass_x.values, ax, bins, color='darkmagenta', linestyle='dashed', label='Upper Quartile $L_{bol}$')\n",
    "knf.histerr(control_tab.stel_mass_x.values, ax, bins, color='forestgreen', linestyle='dashed', label=None)\n",
    "knf.histerr_fill(control_tab.stel_mass_x.values, ax, bins, color='forestgreen', linestyle='dashed', label='Control', alpha=0.2)\n",
    "\n",
    "ax.set_xlabel('$M_{*}$ [$M_{\\odot}$]', fontsize=14)\n",
    "ax.set_ylabel('PDF', fontsize=14)\n",
    "ax.set_xscale('log')\n",
    "ax.legend(frameon=False, fontsize=13, loc='upper left')\n",
    "plt.show()"
   ]
  },
  {
   "cell_type": "code",
   "execution_count": 13,
   "metadata": {},
   "outputs": [
    {
     "data": {
      "image/png": "[encoded data removed]",
      "text/plain": [
       "<matplotlib.figure.Figure at 0x1a21113128>"
      ]
     },
     "metadata": {},
     "output_type": "display_data"
    },
    {
     "name": "stdout",
     "output_type": "stream",
     "text": [
      "Top 10% mean: 21.89423076923077. std: 35.50987240394631\n",
      "Control mean: 26.418956043956044. std: 40.60271736167315\n",
      "Control-Top: Ks_2sampResult(statistic=0.07142857142857151, pvalue=0.3003299908939259)\n"
     ]
    }
   ],
   "source": [
    "fig, ax = plt.subplots(1, figsize=(5,3))\n",
    "bins = np.linspace(0, 180, 19)\n",
    "knf.histerr(high_BHlum.pa_offset.values, ax, bins, color='darkmagenta', linestyle='solid', label=None)\n",
    "knf.histerr_fill(high_BHlum.pa_offset.values, ax, bins, color='darkmagenta', linestyle='dashed', label='Top 10\\% $L_{BH, bol}$')\n",
    "knf.histerr(control_tab.pa_offset.values, ax, bins, color='forestgreen', linestyle='solid', label=None)\n",
    "knf.histerr_fill(control_tab.pa_offset.values, ax, bins, color='forestgreen', linestyle='dashed', label='Control')\n",
    "# knf.histerr(AGN.pa_offset.values, ax, bins, color='k', linestyle='dashed', label=None)\n",
    "# knf.histerr_fill(AGN.pa_offset.values, ax, bins, color='k', linestyle='dashed', label='AGN ($L_{bol} > 10^{43.5}$ ergs/s)', alpha=0.2)\n",
    "\n",
    "ax.set_xlabel('$\\Delta$PA [$^{\\circ}$]', fontsize=14)\n",
    "ax.set_ylabel('PDF', fontsize=14)\n",
    "ax.set_xlim([0,180])\n",
    "ax.set_ylim([10**-3, 1])\n",
    "ax.set_yscale('log')\n",
    "ax.legend(frameon=False, fontsize=14)\n",
    "plt.show()\n",
    "#plt.savefig(plotpath+'PA_distribution_BHlum_split.pdf', format='pdf', bbox_inches='tight')\n",
    "\n",
    "print('Top 10% mean: '+str(np.mean(high_BHlum.pa_offset.values))+'. std: '+str(np.std(high_BHlum.pa_offset.values)))\n",
    "print('Control mean: '+str(np.mean(control_tab.pa_offset.values))+'. std: '+str(np.std(control_tab.pa_offset.values)))\n",
    "\n",
    "### KS tests.\n",
    "print('Control-Top: '+str(scipy.stats.ks_2samp(control_tab.pa_offset.values, high_BHlum.pa_offset.values)))"
   ]
  },
  {
   "cell_type": "markdown",
   "metadata": {},
   "source": [
    "### Computing maximum AGN luminosity within last 8Gyr"
   ]
  },
  {
   "cell_type": "code",
   "execution_count": 7,
   "metadata": {
    "collapsed": true
   },
   "outputs": [],
   "source": [
    "def max_Lbol(sub):\n",
    "    # only returning individual object tree.\n",
    "    mask = (mass_tab.root_subfind.values == sub)\n",
    "    # finding maximum Lbol\n",
    "    try:\n",
    "        Lbol = np.max(mass_tab.log10_Lbh_bol.values[mask])\n",
    "    except:\n",
    "        Lbol = np.NaN\n",
    "    return Lbol"
   ]
  },
  {
   "cell_type": "code",
   "execution_count": 8,
   "metadata": {},
   "outputs": [
    {
     "name": "stderr",
     "output_type": "stream",
     "text": [
      "/Users/cd201/anaconda3/lib/python3.6/site-packages/ipykernel_launcher.py:7: SettingWithCopyWarning: \n",
      "A value is trying to be set on a copy of a slice from a DataFrame.\n",
      "Try using .loc[row_indexer,col_indexer] = value instead\n",
      "\n",
      "See the caveats in the documentation: http://pandas.pydata.org/pandas-docs/stable/indexing.html#indexing-view-versus-copy\n",
      "  import sys\n"
     ]
    }
   ],
   "source": [
    "# defining new column.\n",
    "maximum_Lbol_last8Gyr = []\n",
    "\n",
    "for sub in tng100_pa.subfind_id.values:\n",
    "    maximum_Lbol_last8Gyr.append(max_Lbol(sub))\n",
    "\n",
    "tng100_pa['maximum_Lbol_last8Gyr'] = np.array(maximum_Lbol_last8Gyr)"
   ]
  },
  {
   "cell_type": "code",
   "execution_count": 10,
   "metadata": {},
   "outputs": [
    {
     "data": {
      "image/png": "[encoded data removed]",
      "text/plain": [
       "<matplotlib.figure.Figure at 0x1a14f5bc50>"
      ]
     },
     "metadata": {},
     "output_type": "display_data"
    },
    {
     "name": "stdout",
     "output_type": "stream",
     "text": [
      "Top quartile mean: 29.531593406593405. std: 42.136800909272274\n",
      "Control mean: 26.824175824175825. std: 40.15954607318478\n",
      "Control-Top: Ks_2sampResult(statistic=0.04945054945054944, pvalue=0.32788402235047986)\n"
     ]
    }
   ],
   "source": [
    "# defining top 10% of max_Lbol.\n",
    "\n",
    "tng100_pa = tng100_pa[~np.isnan(tng100_pa.maximum_Lbol_last8Gyr.values)]\n",
    "top_bins = np.percentile(tng100_pa.maximum_Lbol_last8Gyr.values, 80)\n",
    "Lbol_high = tng100_pa[tng100_pa.maximum_Lbol_last8Gyr.values > top_bins]\n",
    "\n",
    "# creating table where the high Lbol have been removed.\n",
    "resid_tab = tng100_pa.drop(Lbol_high.index)\n",
    "# creating control\n",
    "control_tab = create_matched_mass_sample_unique(Lbol_high.stel_mass.values, resid_tab, col_name='stel_mass')\n",
    "\n",
    "fig, ax = plt.subplots(1, figsize=(5.5,3.5))\n",
    "bins = np.linspace(0, 180, 19)\n",
    "knf.histerr(Lbol_high.pa_offset.values, ax, bins, color='darkmagenta', linestyle='dashed', label=None)\n",
    "knf.histerr_fill(Lbol_high.pa_offset.values, ax, bins, color='darkmagenta', linestyle='dashed', label='Top 10\\% MAX($L_{BH, bol}$)')\n",
    "knf.histerr(control_tab.pa_offset.values, ax, bins, color='forestgreen', linestyle='dashed', label=None)\n",
    "knf.histerr_fill(control_tab.pa_offset.values, ax, bins, color='forestgreen', linestyle='dashed', label='Control', alpha=0.2)\n",
    "\n",
    "ax.set_xlabel('$\\Delta$PA [$^{\\circ}$]', fontsize=14)\n",
    "ax.set_ylabel('PDF', fontsize=14)\n",
    "ax.set_xlim([0,180])\n",
    "ax.set_ylim([10**-3, 1])\n",
    "ax.set_yscale('log')\n",
    "ax.legend(frameon=False, fontsize=13)\n",
    "plt.show()\n",
    "\n",
    "print('Top quartile mean: '+str(np.mean(Lbol_high.pa_offset.values))+'. std: '+str(np.std(Lbol_high.pa_offset.values)))\n",
    "print('Control mean: '+str(np.mean(control_tab.pa_offset.values))+'. std: '+str(np.std(control_tab.pa_offset.values)))\n",
    "\n",
    "### KS tests.\n",
    "print('Control-Top: '+str(scipy.stats.ks_2samp(control_tab.pa_offset.values, Lbol_high.pa_offset.values)))"
   ]
  },
  {
   "cell_type": "code",
   "execution_count": 65,
   "metadata": {},
   "outputs": [
    {
     "data": {
      "image/png": "[encoded data removed]",
      "text/plain": [
       "<matplotlib.figure.Figure at 0x1a218b17f0>"
      ]
     },
     "metadata": {},
     "output_type": "display_data"
    }
   ],
   "source": [
    "### plotting mass distributions for high lum and control.\n",
    "fig, ax = plt.subplots(1, figsize=(5.5,3.5))\n",
    "bins = np.logspace(8.5, 11.5, 30)\n",
    "knf.histerr(Lbol_high.stel_mass.values, ax, bins, color='darkmagenta', linestyle='dashed', label=None)\n",
    "knf.histerr_fill(Lbol_high.stel_mass.values, ax, bins, color='darkmagenta', linestyle='dashed', label='AGN ($L_{bol} > 10^{43.5}$ ergs/s)')\n",
    "knf.histerr(control_tab.stel_mass.values, ax, bins, color='forestgreen', linestyle='dashed', label=None)\n",
    "knf.histerr_fill(control_tab.stel_mass.values, ax, bins, color='forestgreen', linestyle='dashed', label='Control', alpha=0.2)\n",
    "\n",
    "ax.set_xlabel('$M_{*}$ [$M_{\\odot}$]', fontsize=14)\n",
    "ax.set_ylabel('PDF', fontsize=14)\n",
    "ax.set_xscale('log')\n",
    "ax.legend(frameon=False, fontsize=13, loc='upper left')\n",
    "plt.show()"
   ]
  },
  {
   "cell_type": "markdown",
   "metadata": {},
   "source": [
    "### Now just comparing for the low mass galaxies.\n",
    "1. Comparing distributions at z=0\n",
    "2. Comparing distributions split on max past Blum ( maybe also try just last 4Gyr). "
   ]
  },
  {
   "cell_type": "code",
   "execution_count": 11,
   "metadata": {},
   "outputs": [
    {
     "data": {
      "image/png": "[encoded data removed]",
      "text/plain": [
       "<matplotlib.figure.Figure at 0x1a14f0f400>"
      ]
     },
     "metadata": {},
     "output_type": "display_data"
    },
    {
     "name": "stdout",
     "output_type": "stream",
     "text": [
      "Top 10% mean: 21.026634382566584. std: 29.600066545872444\n",
      "Control mean: 22.926150121065376. std: 35.55087060701793\n",
      "Control-Top: Ks_2sampResult(statistic=0.05569007263922521, pvalue=0.5321807742557564)\n",
      "Control-Top: Anderson_ksampResult(statistic=-0.0008856716416293078, critical_values=array([0.325, 1.226, 1.961, 2.718, 3.752]), significance_level=0.34845096207937265)\n"
     ]
    },
    {
     "name": "stderr",
     "output_type": "stream",
     "text": [
      "/Users/cd201/anaconda3/lib/python3.6/site-packages/scipy/stats/morestats.py:1694: UserWarning: approximate p-value will be computed by extrapolation\n",
      "  warnings.warn(\"approximate p-value will be computed by extrapolation\")\n"
     ]
    }
   ],
   "source": [
    "tng100_pa_lm = tng100_pa[tng100_pa.stel_mass.values < 10**10.2]\n",
    "all_lum_lm, low_BHlum_lm, high_BHlum_lm = split_population.combine_with_tree_split_on_BHlum_percentile(tng100_pa_lm, mass_tab, 10, 80)\n",
    "# creating a mass matched control sample for the high lum quartile.\n",
    "# firstly creating table where high lum has been removed.\n",
    "resid_tab = all_lum_lm.drop(high_BHlum_lm.index)\n",
    "\n",
    "# creating control\n",
    "control_tab = create_matched_mass_sample_unique(high_BHlum_lm.stel_mass_x.values, resid_tab)\n",
    "\n",
    "fig, ax = plt.subplots(1, figsize=(5,3))\n",
    "bins = np.linspace(0, 180, 13)\n",
    "knf.histerr(high_BHlum_lm.pa_offset.values, ax, bins, color='darkmagenta', linestyle='solid', label=None)\n",
    "knf.histerr_fill(high_BHlum_lm.pa_offset.values, ax, bins, color='darkmagenta', linestyle='dashed', label='Top 10\\% $L_{BH, bol}$')\n",
    "knf.histerr(control_tab.pa_offset.values, ax, bins, color='forestgreen', linestyle='solid', label=None)\n",
    "knf.histerr_fill(control_tab.pa_offset.values, ax, bins, color='forestgreen', linestyle='dashed', label='Control')\n",
    "ax.set_xlabel('$\\Delta$PA [$^{\\circ}$]', fontsize=14)\n",
    "ax.set_ylabel('PDF', fontsize=14)\n",
    "ax.set_xlim([0,180])\n",
    "ax.set_ylim([10**-3, 1])\n",
    "ax.set_yscale('log')\n",
    "ax.legend(frameon=False, fontsize=14)\n",
    "plt.show()\n",
    "\n",
    "print('Top 10% mean: '+str(np.mean(high_BHlum_lm.pa_offset.values))+'. std: '+str(np.std(high_BHlum_lm.pa_offset.values)))\n",
    "print('Control mean: '+str(np.mean(control_tab.pa_offset.values))+'. std: '+str(np.std(control_tab.pa_offset.values)))\n",
    "\n",
    "### KS tests.\n",
    "print('Control-Top: '+str(scipy.stats.ks_2samp(control_tab.pa_offset.values, high_BHlum_lm.pa_offset.values)))\n",
    "### Anderson darling test.\n",
    "print('Control-Top: '+str(scipy.stats.anderson_ksamp((control_tab.pa_offset.values, high_BHlum_lm.pa_offset.values))))\n"
   ]
  },
  {
   "cell_type": "markdown",
   "metadata": {},
   "source": [
    "### Now comparing for Lmax over last 8 Gyr."
   ]
  },
  {
   "cell_type": "code",
   "execution_count": 12,
   "metadata": {},
   "outputs": [
    {
     "data": {
      "image/png": "[encoded data removed]",
      "text/plain": [
       "<matplotlib.figure.Figure at 0x1a1589bb70>"
      ]
     },
     "metadata": {},
     "output_type": "display_data"
    },
    {
     "name": "stdout",
     "output_type": "stream",
     "text": [
      "Top quartile mean: 28.25181598062954. std: 38.25634547179302\n",
      "Control mean: 19.663438256658594. std: 31.566591203170425\n",
      "Control-Top: Ks_2sampResult(statistic=0.14769975786924944, pvalue=0.0002081354441506274)\n",
      "Control-Top: Anderson_ksampResult(statistic=13.793420235221449, critical_values=array([0.325, 1.226, 1.961, 2.718, 3.752]), significance_level=2.5140905636203467e-05)\n"
     ]
    },
    {
     "name": "stderr",
     "output_type": "stream",
     "text": [
      "/Users/cd201/anaconda3/lib/python3.6/site-packages/scipy/stats/morestats.py:1694: UserWarning: approximate p-value will be computed by extrapolation\n",
      "  warnings.warn(\"approximate p-value will be computed by extrapolation\")\n"
     ]
    }
   ],
   "source": [
    "# defining top 10% of max_Lbol.\n",
    "tng100_pa = tng100_pa[~np.isnan(tng100_pa.maximum_Lbol_last8Gyr.values)]\n",
    "top_bins = np.percentile(tng100_pa_lm.maximum_Lbol_last8Gyr.values, 80)\n",
    "Lbol_high = tng100_pa_lm[tng100_pa_lm.maximum_Lbol_last8Gyr.values > top_bins]\n",
    "\n",
    "# creating table where the high Lbol have been removed.\n",
    "resid_tab = tng100_pa_lm.drop(Lbol_high.index)\n",
    "# creating control\n",
    "max_control_tab = create_matched_mass_sample_unique(Lbol_high.stel_mass.values, resid_tab, col_name='stel_mass')\n",
    "\n",
    "fig, ax = plt.subplots(1, figsize=(5.5,3.5))\n",
    "bins = np.linspace(0, 180, 13)\n",
    "knf.histerr(Lbol_high.pa_offset.values, ax, bins, color='darkmagenta', linestyle='solid', label=None)\n",
    "knf.histerr_fill(Lbol_high.pa_offset.values, ax, bins, color='darkmagenta', linestyle='dashed', label='Top 10\\% MAX($L_{BH, bol}$)')\n",
    "knf.histerr(max_control_tab.pa_offset.values, ax, bins, color='forestgreen', linestyle='solid', label=None)\n",
    "knf.histerr_fill(max_control_tab.pa_offset.values, ax, bins, color='forestgreen', linestyle='dashed', label='Control', alpha=0.2)\n",
    "\n",
    "ax.set_xlabel('$\\Delta$PA [$^{\\circ}$]', fontsize=14)\n",
    "ax.set_ylabel('PDF', fontsize=14)\n",
    "ax.set_xlim([0,180])\n",
    "ax.set_ylim([10**-3, 1])\n",
    "ax.set_yscale('log')\n",
    "ax.legend(frameon=False, fontsize=13)\n",
    "plt.show()\n",
    "\n",
    "print('Top quartile mean: '+str(np.mean(Lbol_high.pa_offset.values))+'. std: '+str(np.std(Lbol_high.pa_offset.values)))\n",
    "print('Control mean: '+str(np.mean(max_control_tab.pa_offset.values))+'. std: '+str(np.std(max_control_tab.pa_offset.values)))\n",
    "\n",
    "### KS tests.\n",
    "print('Control-Top: '+str(scipy.stats.ks_2samp(max_control_tab.pa_offset.values, Lbol_high.pa_offset.values)))\n",
    "print('Control-Top: '+str(scipy.stats.anderson_ksamp((max_control_tab.pa_offset.values, Lbol_high.pa_offset.values))))\n"
   ]
  },
  {
   "cell_type": "markdown",
   "metadata": {},
   "source": [
    "### Combining both z=0 and over last 8 Gyr plots or low mass galaxies."
   ]
  },
  {
   "cell_type": "code",
   "execution_count": 17,
   "metadata": {},
   "outputs": [
    {
     "name": "stderr",
     "output_type": "stream",
     "text": [
      "/Users/cd201/anaconda3/lib/python3.6/site-packages/scipy/stats/morestats.py:1694: UserWarning: approximate p-value will be computed by extrapolation\n",
      "  warnings.warn(\"approximate p-value will be computed by extrapolation\")\n"
     ]
    }
   ],
   "source": [
    "fig, ax = plt.subplots(2, figsize=(5.3, 5.7), sharex='all', sharey='all')\n",
    "\n",
    "bins = np.linspace(0, 180, 13)\n",
    "knf.histerr(high_BHlum_lm.pa_offset.values, ax[0], bins, color='darkmagenta', linestyle='solid', label=None)\n",
    "knf.histerr_fill(high_BHlum_lm.pa_offset.values, ax[0], bins, color='darkmagenta', linestyle='dashed', label='Top 20\\% $L_{bol}(z=0)$')\n",
    "knf.histerr(control_tab.pa_offset.values, ax[0], bins, color='forestgreen', linestyle='solid', label=None)\n",
    "knf.histerr_fill(control_tab.pa_offset.values, ax[0], bins, color='forestgreen', linestyle='dashed', label='Control')\n",
    "\n",
    "knf.histerr(Lbol_high.pa_offset.values, ax[1], bins, color='darkmagenta', linestyle='solid', label=None)\n",
    "knf.histerr_fill(Lbol_high.pa_offset.values, ax[1], bins, color='darkmagenta', linestyle='dashed', label='Top 20\\% $\\max{L_{bol}(8Gyrs)}$')\n",
    "knf.histerr(max_control_tab.pa_offset.values, ax[1], bins, color='forestgreen', linestyle='solid', label=None)\n",
    "knf.histerr_fill(max_control_tab.pa_offset.values, ax[1], bins, color='forestgreen', linestyle='dashed', label='Control', alpha=0.2)\n",
    "\n",
    "ax[0].set_ylabel('PDF', fontsize=14)\n",
    "ax[1].set_xlabel('$\\Delta$PA [$^{\\circ}$]', fontsize=14)\n",
    "ax[1].set_ylabel('PDF', fontsize=14)\n",
    "ax[1].set_xlim([0,180])\n",
    "ax[1].set_ylim([10**-3 + 10**-4, 9.5])\n",
    "ax[1].set_yscale('log')\n",
    "\n",
    "ax[0].legend(frameon=False, fontsize=13, loc='upper left')\n",
    "ax[1].legend(frameon=False, fontsize=13, loc='upper left')\n",
    "\n",
    "plot_population.xtick_format(20, 10, ax[1], format='%1.0f')\n",
    "\n",
    "# adding Anderson-Darling test annotations.\n",
    "z0_ADs, _, z0_ADp = scipy.stats.anderson_ksamp((control_tab.pa_offset.values, high_BHlum_lm.pa_offset.values))\n",
    "max_ADs, _, max_ADp = scipy.stats.anderson_ksamp((max_control_tab.pa_offset.values, Lbol_high.pa_offset.values))\n",
    "\n",
    "ax[0].annotate(r'$AD=$'+str(round(z0_ADs, 3))+r' $p=$'+str(np.round(z0_ADp, 3)), \n",
    "               xy=(0.535, 0.765), xycoords='axes fraction', fontsize=13.5 )\n",
    "ax[1].annotate(r'$AD=$'+str(round(max_ADs, 3))+r' $p=$'+str(np.round(max_ADp, 5)), \n",
    "               xy=(0.535, 0.765), xycoords='axes fraction', fontsize=13.5 )\n",
    "\n",
    "fig.subplots_adjust(wspace=0, hspace=0)\n",
    "plt.savefig(plotpath+'PA_distribution_low_mass_z0_max_comparison.pdf', format='pdf', bbox_inches='tight')"
   ]
  }
 ],
 "metadata": {
  "kernelspec": {
   "display_name": "Python 3",
   "language": "python",
   "name": "python3"
  },
  "language_info": {
   "codemirror_mode": {
    "name": "ipython",
    "version": 3
   },
   "file_extension": ".py",
   "mimetype": "text/x-python",
   "name": "python",
   "nbconvert_exporter": "python",
   "pygments_lexer": "ipython3",
   "version": "3.6.3"
  }
 },
 "nbformat": 4,
 "nbformat_minor": 2
}

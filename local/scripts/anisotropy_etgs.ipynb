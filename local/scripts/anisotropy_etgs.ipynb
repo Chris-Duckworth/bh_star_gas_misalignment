{
 "cells": [
  {
   "cell_type": "markdown",
   "metadata": {},
   "source": [
    "### anisotropy_etgs\n",
    "---\n",
    "This script selects some massive ETGs to have a look at how the anisotropy of DM and stars are related.\n",
    "\n",
    "---"
   ]
  },
  {
   "cell_type": "code",
   "execution_count": 23,
   "metadata": {},
   "outputs": [],
   "source": [
    "import numpy as np\n",
    "import h5py\n",
    "import split_population\n",
    "import pandas as pd\n",
    "import matplotlib.pyplot as plt"
   ]
  },
  {
   "cell_type": "code",
   "execution_count": 4,
   "metadata": {},
   "outputs": [],
   "source": [
    "# ---------------------------------------------------------------------------------------\n",
    "# Loading in TNG100 sample with z=0 info to select samples.\n",
    "tng100_main = pd.read_csv('/Users/cd201/morphology_misalignment/catalogues/tng100_mpl8_pa_info_v0.1_z0_info.csv', comment='#')\n",
    "tng100_pa = split_population.tng100_pa_sample(tng100_main)\n",
    "\n",
    "# Breaking down morphology (deviations from sfms).\n",
    "QU, _, _ = split_population.SFMS_breakdown(tng100_pa)"
   ]
  },
  {
   "cell_type": "code",
   "execution_count": 9,
   "metadata": {},
   "outputs": [],
   "source": [
    "# selecting only massive etgs.\n",
    "massive_etgs_subfind = QU.subfind_id.values[QU.stel_mass.values > 10**11]"
   ]
  },
  {
   "cell_type": "code",
   "execution_count": 14,
   "metadata": {},
   "outputs": [
    {
     "data": {
      "text/plain": [
       "['DM_beta_sigma',\n",
       " 'DM_beta_vel',\n",
       " 'DM_beta_vel_err',\n",
       " 'num_effective_radii',\n",
       " 'physical_radii_kpc',\n",
       " 'snapnum',\n",
       " 'stellar_beta_sigma',\n",
       " 'stellar_beta_vel',\n",
       " 'stellar_beta_vel_err',\n",
       " 'subfind_id']"
      ]
     },
     "execution_count": 14,
     "metadata": {},
     "output_type": "execute_result"
    }
   ],
   "source": [
    "# loading in anisotropy info for complete mock MaNGA sample.\n",
    "hf = h5py.File('/Users/cd201/projects/bh_star_gas_misalignment/popeye/catalogues/tng100_mpl8_velocity_anisotropy.hdf5')  \n",
    "list(hf.keys())"
   ]
  },
  {
   "cell_type": "code",
   "execution_count": 20,
   "metadata": {},
   "outputs": [],
   "source": [
    "# masking values for selected ETGs only.\n",
    "mask = np.in1d(hf['subfind_id'][()], massive_etgs_subfind)"
   ]
  },
  {
   "cell_type": "markdown",
   "metadata": {},
   "source": [
    "#### 1. Plotting for one ETG only."
   ]
  },
  {
   "cell_type": "code",
   "execution_count": 42,
   "metadata": {},
   "outputs": [
    {
     "data": {
      "image/png": "[encoded data removed]",
      "text/plain": [
       "<matplotlib.figure.Figure at 0x11886b0b8>"
      ]
     },
     "metadata": {},
     "output_type": "display_data"
    }
   ],
   "source": [
    "fig, ax = plt.subplots(1,2,  figsize=(14,5), sharex='all', sharey='all')\n",
    "\n",
    "ax[0].plot(hf['num_effective_radii'][()][mask][0], hf['DM_beta_vel'][()][mask][0], label=r'DM', color='k')\n",
    "ax[0].plot(hf['num_effective_radii'][()][mask][0], hf['stellar_beta_vel'][()][mask][0], label=r'Stellar', color='k', linestyle='dashed')  \n",
    "ax[0].set_ylabel(r'$\\beta_{\\sigma} = 1 - v_{tan} / 2 v_{rad}$', fontsize=14)\n",
    "ax[0].set_xlabel(r'Radius [$R_e$]', fontsize=14)\n",
    "\n",
    "ax[1].plot(hf['num_effective_radii'][()][mask][0], hf['DM_beta_sigma'][()][mask][0], label=r'DM', color='k')\n",
    "ax[1].plot(hf['num_effective_radii'][()][mask][0], hf['stellar_beta_sigma'][()][mask][0], label=r'Stellar', color='k', linestyle='dashed')  \n",
    "ax[1].set_ylabel(r'$\\beta_{\\sigma} = 1 - \\sigma_{tan} / 2 \\sigma_{rad}$', fontsize=14)\n",
    "ax[1].set_xlabel(r'Radius [$R_e$]', fontsize=14)\n",
    "\n",
    "ax[1].legend(frameon=False)\n",
    "ax[1].set_ylim([-4, 1])\n",
    "plt.show()"
   ]
  }
 ],
 "metadata": {
  "kernelspec": {
   "display_name": "Python 3",
   "language": "python",
   "name": "python3"
  },
  "language_info": {
   "codemirror_mode": {
    "name": "ipython",
    "version": 3
   },
   "file_extension": ".py",
   "mimetype": "text/x-python",
   "name": "python",
   "nbconvert_exporter": "python",
   "pygments_lexer": "ipython3",
   "version": "3.6.3"
  }
 },
 "nbformat": 4,
 "nbformat_minor": 2
}
